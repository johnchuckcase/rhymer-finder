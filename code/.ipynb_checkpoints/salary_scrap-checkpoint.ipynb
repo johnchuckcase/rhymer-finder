{
 "cells": [
  {
   "cell_type": "code",
   "execution_count": 269,
   "metadata": {
    "collapsed": true
   },
   "outputs": [],
   "source": [
    "import requests\n",
    "import json\n",
    "from pymongo import MongoClient\n",
    "import psycopg2 as pg2"
   ]
  },
  {
   "cell_type": "code",
   "execution_count": 270,
   "metadata": {
    "collapsed": true
   },
   "outputs": [],
   "source": [
    "#Input into terminal:\n",
    "#postgres -D /usr/local/var/postgres\n",
    "#psql\n",
    "#CREATE DATABASE uc_comp WITH OWNER johncase ENCODING 'utf-8';\n",
    "\n",
    "conn = psycopg2.connect(dbname='uc_comp', user='johncase', host='/tmp')\n",
    "c = conn.cursor()"
   ]
  },
  {
   "cell_type": "code",
   "execution_count": 271,
   "metadata": {
    "collapsed": true
   },
   "outputs": [],
   "source": [
    "c.execute('''DROP TABLE salaries''')\n",
    "c.execute('''create table salaries\n",
    "(id bigint,\n",
    " year bigint,\n",
    " campus varchar(30),\n",
    " first varchar(30),\n",
    " last varchar(30),\n",
    " position varchar(30),\n",
    " gross bigint,\n",
    " regular bigint,\n",
    " overtime bigint,\n",
    " other bigint);''')"
   ]
  },
  {
   "cell_type": "code",
   "execution_count": 274,
   "metadata": {
    "collapsed": false
   },
   "outputs": [
    {
     "ename": "SyntaxError",
     "evalue": "invalid syntax (<ipython-input-274-6ea9b6186f5f>, line 12)",
     "output_type": "error",
     "traceback": [
      "\u001b[0;36m  File \u001b[0;32m\"<ipython-input-274-6ea9b6186f5f>\"\u001b[0;36m, line \u001b[0;32m12\u001b[0m\n\u001b[0;31m    'location':'ALL',\u001b[0m\n\u001b[0m             ^\u001b[0m\n\u001b[0;31mSyntaxError\u001b[0m\u001b[0;31m:\u001b[0m invalid syntax\n"
     ]
    }
   ],
   "source": [
    "for year in range(2010,2015):\n",
    "\n",
    "    s = requests.Session()\n",
    "\n",
    "    form_data = {'_search':'false',\n",
    "             'nd':'1455686285637',\n",
    "             'rows': '1000000',\n",
    "             'page': '1',\n",
    "             'sidx': 'EAW_LST_NAM',\n",
    "             'sord':'asc',\n",
    "             'year':str(year),\n",
    "             'location':'ALL',\n",
    "             'firstname':'',\n",
    "             'lastname':'',\n",
    "             'title':'',\n",
    "             'startSal': '0',\n",
    "             'endSal':'999999999999'}\n",
    "\n",
    "    response = s.post('https://ucannualwage.ucop.edu/wage/search.action', data=form_data)\n",
    "    records = json.loads(response.text.replace(\"'\",'\"'))['rows']\n",
    "    \n",
    "    \n",
    "    for rec in records:\n",
    "        dat = rec['cell']\n",
    "        c.execute('''INSERT INTO salaries VALUES\n",
    "                    (%(id)s, %(year)s, %(campus)s, %(first)s, %(last)s,\n",
    "                    %(position)s, %(gross)s, %(regular)s, %(overtime)s, %(other)s);''',\n",
    "\n",
    "                  {'id':dat[0],'year':int(dat[1]),'campus':dat[2],'first':dat[3],\\\n",
    "                    'last':dat[4],'position':dat[5],'gross':int(float(dat[6])),\\\n",
    "                    'regular':int(float(dat[7])),'overtime':int(float(dat[8])),'other':int(float(dat[9]))})"
   ]
  },
  {
   "cell_type": "code",
   "execution_count": 221,
   "metadata": {
    "collapsed": false
   },
   "outputs": [],
   "source": [
    "conn.commit()\n",
    "conn.close()"
   ]
  }
 ],
 "metadata": {
  "kernelspec": {
   "display_name": "Python 2",
   "language": "python",
   "name": "python2"
  },
  "language_info": {
   "codemirror_mode": {
    "name": "ipython",
    "version": 2
   },
   "file_extension": ".py",
   "mimetype": "text/x-python",
   "name": "python",
   "nbconvert_exporter": "python",
   "pygments_lexer": "ipython2",
   "version": "2.7.11"
  }
 },
 "nbformat": 4,
 "nbformat_minor": 0
}
