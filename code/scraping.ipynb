{
 "cells": [
  {
   "cell_type": "code",
   "execution_count": 1,
   "metadata": {
    "collapsed": false
   },
   "outputs": [],
   "source": [
    "# Import library to read urls\n",
    "from urllib2 import urlopen\n",
    "# Import library to parse html\n",
    "from bs4 import BeautifulSoup\n",
    "from pymongo import MongoClient\n",
    "import pandas as pd\n",
    "import numpy as np\n",
    "import re\n",
    "import time"
   ]
  },
  {
   "cell_type": "code",
   "execution_count": 2,
   "metadata": {
    "collapsed": false
   },
   "outputs": [],
   "source": [
    "client = MongoClient()\n",
    "# Access/Initiate Database\n",
    "db = client['rap_db']\n",
    "# Access/Initiate Table\n",
    "tab = db['lyrics']"
   ]
  },
  {
   "cell_type": "code",
   "execution_count": 3,
   "metadata": {
    "collapsed": true
   },
   "outputs": [],
   "source": [
    "artists = ['dmx','toohort','pablo','masterp','50cent','drake','bone','saltnpepa',\\\n",
    "           'juvenile','youngjeezy','wizkhalifa','lilb','lilwayne','guccimane','missy',\\\n",
    "           'west','rundmc','ugk','snoopdogg','jadakiss','scarface','icp','nickiminaj',\\\n",
    "          'three6mafia','getoboys','ti','camron','bizmarkie','icecube','nelly','game',\\\n",
    "          'lupefiasco','lilkim','jayz','clipse','icet','puffdaddy','royceda59','eminem',\\\n",
    "          'cypress','krsone','mosdef','rakim','tribecalledquest','tyga','fatjoe',\\\n",
    "          'publicenemy','kweli','brotherali','twista','llcoolj','mobbdeep','ludacris',\\\n",
    "           'gangstarr','goodiemob','techn9ne','busta','wale','delasoul','methodman',\\\n",
    "          'common','raekwon','xzibit','beastie','nas','outkast','e40','blackalicious',\\\n",
    "          'redman','ghostface','roots','wutang','rza','canibus','gza','aesoprock',\\\n",
    "          'jcole','kendricklamar']\n",
    "# 19/50cent.html\n",
    "# 19/2pac"
   ]
  },
  {
   "cell_type": "code",
   "execution_count": 17,
   "metadata": {
    "collapsed": false
   },
   "outputs": [],
   "source": [
    "#Gather all song links for particular artist\n",
    "\n",
    "artist = '2pac'\n",
    "\n",
    "if artist[0].isdigit():\n",
    "    url = 'http://www.azlyrics.com/19/' + artist + '.html'\n",
    "else:\n",
    "    url = 'http://www.azlyrics.com/' + artist[0] + '/' + artist + '.html'\n",
    "    \n",
    "content = urlopen(url).read()\n",
    "# Feed the html to a BeatifulSoup object\n",
    "soup = BeautifulSoup(content)\n",
    "els = soup.find(id='listAlbum')\n",
    "\n",
    "#Do not include song lyrics from \"non-rap\" songs or repeats (e.g., remixes)\n",
    "stop_strings = ['intro','skit','interlude','remix']\n",
    "\n",
    "#Parse out urls\n",
    "urls = [x['href'][2:] for x in els.find_all(target='_blank') if not any(substr in x.contents[0].lower() for substr in stop_strings)]"
   ]
  },
  {
   "cell_type": "code",
   "execution_count": 16,
   "metadata": {
    "collapsed": false
   },
   "outputs": [
    {
     "data": {
      "text/plain": [
       "u'\\n\\r\\n(\"Hard like an erection...\" -- Ed O.G.)  Young black male!\\r\\n(\"Hard like an erection...\")\\r\\n(\"...ain\\'t shit to fool with\" -- Ice Cube)\\r\\n(\"Hard like an erection...\")  Young black male!\\r\\n(\"...ain\\'t shit to fool with\")\\n[runs backwards] Young black male!\\n\\n[2Pac] Yes niggaz... yes niggaz... yes niggaz\\n\\r\\nYoung black male!\\r\\n(\"Hard like an erection...\")  Young black male!\\r\\n(\"Hard like an erection...\") (\"...ain\\'t shit to fool with\")\\r\\n(\"Hard like an erection...\")  Young black male!\\r\\n(\"Hard like an erection...\") (\"...ain\\'t shit to fool with\")\\n\\n[2Pac] Go nigga, go!!\\n\\n[Verse One:]\\n\\r\\nYoung black male\\r\\nI try to effect by kicking the facts\\r\\nand stacking much mail\\r\\nI\\'m packing a gat cuz guys wanna jack\\r\\nand fuck goin to jail\\r\\nCuz I ain\\'t equipped to stop how I look\\r\\nI don\\'t sell ya-yo\\r\\nThey teachin a brother like I was in books\\r\\nFollow me into a flow\\r\\nI\\'m sure you know, which way to go\\r\\nI\\'m hittin em out of the dopes\\r\\nSo slip on the slope, let\\'s skip on the flow\\r\\nI\\'m fuckin the sluts and hoes\\r\\nThe bigger the butts the tighter the clothes\\r\\nThe gimminy jimminy grows\\r\\nThen whaddya know, it\\'s off with some clothes\\r\\nRowd when the crowd says hoe\\r\\nThat let\\'s me know, they know I can flow\\r\\nLove when they come to my shows\\r\\nI get up and go, with skins before\\r\\nWhen I\\'m collecting my dough\\r\\nI never respect, the one that I back\\r\\nThe quicker the nigga can rap\\r\\nThe bigger the check, now watch how they sweat\\r\\nWhat kind of style is that?\\r\\nThe style of a mack, and ready to jack\\r\\nI rendered up piles of black\\r\\nThe wacker the pack, the fatter the smack\\r\\nI hate it when real nigga bust\\r\\nThey hate when I cuss, they threaten to bust\\r\\nI had enough of the fuss\\r\\nI bust what I bust, and cuss when I must\\r\\nThey gave me a charge for sales\\r\\nFor selling the tales... of young black males\\n\\r\\nYes nigga, N-I-G-G-A niggaz\\n\\r\\nAy nigga you can\\'t handle that shit!\\r\\nPass that man!\\n\\r\\nHit that shit, that\\'s the shit!\\n\\r\\nIt smell like skunk, skunk smell like that nigga momma\\n\\r\\nWe ain\\'t nuttin but some low down dirty niggaz\\r\\nKeep it real nigga, fuck you nigga!\\r\\nYou ain\\'t givin me near a dime on this real motherfucker\\r\\nFuck St. Ide\\'s it\\'s an Old E thing baby\\r\\nStrictly some of that Hennesee\\n\\r\\nCan I drink with you fellas?  Can I get it on it?\\n\\r\\nFuck you capo.  You ain\\'t in baby.\\n\\r\\nI tell you what!  You guys are not gonna be talking\\r\\nall that shit, when I come back, OK?\\r\\nWe gonna say who the big mouth, when I come back\\n\\r\\nYOUNG BLACK MALE!\\n'"
      ]
     },
     "execution_count": 16,
     "metadata": {},
     "output_type": "execute_result"
    }
   ],
   "source": [
    "# Feed the html to a BeatifulSoup object\n",
    "soup = BeautifulSoup(content)\n",
    "rows = soup.find('div',{'class':'col-xs-12 col-lg-8 text-center'})\n",
    "rows = rows.find('div',{'class':''})\n",
    "text = rows.text\n",
    "text"
   ]
  },
  {
   "cell_type": "code",
   "execution_count": 32,
   "metadata": {
    "collapsed": false
   },
   "outputs": [],
   "source": [
    "for i, url in enumerate(urls):\n",
    "    \n",
    "    print i, url\n",
    "    \n",
    "    # Go to the link and get the html as a string\n",
    "    content = urlopen('http://www.azlyrics.com/' + url).read()\n",
    "    # Feed the html to a BeatifulSoup object\n",
    "    soup = BeautifulSoup(content)\n",
    "\n",
    "    # Extract the rows in the table\n",
    "    rows = soup.find('div',{'class':'col-xs-12 col-lg-8 text-center'})\n",
    "    rows = rows.find('div',{'class':''})\n",
    "    text = rows.text\n",
    "\n",
    "    time.sleep(5)\n",
    "    time.sleep(np.random.rand()*10)\n",
    "    \n",
    "    if i % 5 == 0:\n",
    "        time.sleep(5)\n",
    "        time.sleep(np.random.rand()*10)     \n",
    "    \n",
    "    lyrics = ''\n",
    "    for t in a:\n",
    "        if len(t) > 100:\n",
    "            lyrics = lyrics + t.strip().encode('ascii','ignore')\n",
    "    tab.insert_one({'artist':artist, 'url':url, 'lyrics':lyrics})"
   ]
  },
  {
   "cell_type": "code",
   "execution_count": null,
   "metadata": {
    "collapsed": true
   },
   "outputs": [],
   "source": [
    "#Export to JSON\n",
    "\n",
    "# import pymongo\n",
    "# from bson.json_util import dumps\n",
    "# import json\n",
    "# import pickle\n",
    "\n",
    "# # connection = pymongo.Connection(\"localhost\", 27017)\n",
    "# # db = connection.mydocs\n",
    "\n",
    "# def get():\n",
    "#     cursor = tab.find()\n",
    "#     return dumps(cursor)\n",
    "# raps = json.loads(get())\n",
    "\n",
    "# import cPickle as pickle\n",
    "# with open(\"rap_data.json\", 'w') as f:\n",
    "#     pickle.dump(raps, f)"
   ]
  }
 ],
 "metadata": {
  "kernelspec": {
   "display_name": "Python 2",
   "language": "python",
   "name": "python2"
  },
  "language_info": {
   "codemirror_mode": {
    "name": "ipython",
    "version": 2
   },
   "file_extension": ".py",
   "mimetype": "text/x-python",
   "name": "python",
   "nbconvert_exporter": "python",
   "pygments_lexer": "ipython2",
   "version": "2.7.11"
  }
 },
 "nbformat": 4,
 "nbformat_minor": 0
}
